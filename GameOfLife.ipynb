{
  "nbformat": 4,
  "nbformat_minor": 0,
  "metadata": {
    "colab": {
      "provenance": [],
      "authorship_tag": "ABX9TyNFNwQeZr7dipoCc7rhsJ06",
      "include_colab_link": true
    },
    "kernelspec": {
      "name": "python3",
      "display_name": "Python 3"
    },
    "language_info": {
      "name": "python"
    }
  },
  "cells": [
    {
      "cell_type": "markdown",
      "metadata": {
        "id": "view-in-github",
        "colab_type": "text"
      },
      "source": [
        "<a href=\"https://colab.research.google.com/github/Sopulu-max/Exploring_Python/blob/main/GameOfLife.ipynb\" target=\"_parent\"><img src=\"https://colab.research.google.com/assets/colab-badge.svg\" alt=\"Open In Colab\"/></a>"
      ]
    },
    {
      "cell_type": "code",
      "execution_count": 9,
      "metadata": {
        "id": "OirpdRytaPO0"
      },
      "outputs": [],
      "source": [
        "import sys, argparse\n",
        "import numpy as np\n",
        "import matplotlib.pyplot as plt\n",
        "import matplotlib.animation as animation"
      ]
    },
    {
      "cell_type": "code",
      "source": [
        "ON = 255\n",
        "OFF = 0\n",
        "vals = [ON, OFF]\n",
        "\n",
        "def random_grid(N):\n",
        "    \"\"\"returns a grid of N*N randomValues\"\"\"\n",
        "    return np.random.choice(vals, N * N, p=[0.2, 0.8]).reshape(N, N)\n",
        "\n",
        "\n",
        "def add_glider(i, j, grid):\n",
        "    \"\"\"adds a glider with top left cell at (i, j)\"\"\"\n",
        "    glider = np.array([[0, 0, 255], [255, 0, 255], [0, 255, 255]])\n",
        "    grid[i:i + 3, j:j + 3] = glider"
      ],
      "metadata": {
        "id": "Mj9EE0BVarBO"
      },
      "execution_count": 10,
      "outputs": []
    },
    {
      "cell_type": "code",
      "source": [
        "def update(frame_num, img, grid, N):\n",
        "    # copy grid since we require 8 neighbours for calculation\n",
        "    # and we go line by line\n",
        "    new_grid = grid.copy()\n",
        "    for i in range(N):\n",
        "        for j in range(N):\n",
        "            # compute 8-neighbour sum using toroidal boundary condions\n",
        "            # x and y wrap around so that the simulation takes place on a toroidal surface\n",
        "            total = int((grid[i, (j - 1) % N] + \n",
        "                         grid[i, (j + 1) % N] + \n",
        "                         grid[(i - 1) % N, j] +\n",
        "                         grid[(i + 1) % N, j] + \n",
        "                         grid[(i - 1) % N, (j - 1) % N] + \n",
        "                         grid[(i - 1) % N, (j + 1) % N] +\n",
        "                         grid[(i + 1) % N, (j - 1) % N] + \n",
        "                         grid[(i + 1) % N, (j + 1) % N]) / 255)\n",
        "            # apply conway's rules\n",
        "            if grid[i, j] == ON:\n",
        "                if (total < 2) or (total > 3):\n",
        "                    new_grid[i, j] = OFF\n",
        "            else:\n",
        "                if total == 3:\n",
        "                    new_grid[i, j] = ON\n",
        "\n",
        "    # update data\n",
        "    img.set_data(new_grid)\n",
        "    grid[:] = new_grid[:]\n",
        "    return img"
      ],
      "metadata": {
        "id": "JQDgELaVbBx3"
      },
      "execution_count": 11,
      "outputs": []
    },
    {
      "cell_type": "code",
      "source": [
        "def main():\n",
        "    parser = argparse.ArgumentParser(\n",
        "        description=\"Runs Conway's Game Of Life Simulation\")\n",
        "    parser.add_argument('--grid-size', dest='N', required=False)\n",
        "    parser.add_argument('--mov-file', dest='movfile', required=False)\n",
        "    parser.add_argument('--interval', dest='interval', required=False)\n",
        "    parser.add_argument('--glider', action='store_true', required=False)\n",
        "    parser.add_argument('--gosper', action='store_true', required=False)\n",
        "    args = parser.parse_args()\n",
        "\n",
        "    # set grid size\n",
        "    N = 100\n",
        "    if args.N and int(args.N) > 8:\n",
        "        N = int(args.N)\n",
        "\n",
        "    # set animation update interval\n",
        "    update_interval = 50\n",
        "    if args.interval:\n",
        "        update_interval = int(args.interval)\n",
        "\n",
        "    # declare grid\n",
        "    grid = np.array([])\n",
        "    # check if glider demo flag is specified\n",
        "    if args.glider:\n",
        "        grid = np.zeros(N * N).reshape(N, N)\n",
        "        add_glider(1, 1, grid)\n",
        "    else:\n",
        "        # populate grid with random on/off - more off than on\n",
        "        grid = random_grid(N)\n",
        "\n",
        "    # set up the animation\n",
        "    fig, ax = plt.subplots()\n",
        "    img = ax.imshow(grid, interpolation='nearest')\n",
        "    ani = animation.FuncAnimation(fig,\n",
        "                                  update,\n",
        "                                  fargs=(\n",
        "                                      img,\n",
        "                                      grid,\n",
        "                                      N,\n",
        "                                  ),\n",
        "                                  frames=10,\n",
        "                                  interval=update_interval,\n",
        "                                  save_count=50)\n",
        "    # number of frames\n",
        "    # set the output file\n",
        "    if args.movfile:\n",
        "        ani.save(args.movfile, fps=30, extra_args=['-vcodec', 'libx264'])\n",
        "\n",
        "    plt.show()"
      ],
      "metadata": {
        "id": "yfh9tgIhbOus"
      },
      "execution_count": 12,
      "outputs": []
    }
  ]
}